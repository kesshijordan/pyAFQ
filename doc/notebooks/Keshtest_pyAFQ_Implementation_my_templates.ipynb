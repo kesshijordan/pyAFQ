{
 "cells": [
  {
   "cell_type": "code",
   "execution_count": 1,
   "metadata": {
    "collapsed": true
   },
   "outputs": [],
   "source": [
    "%matplotlib inline\n",
    "import warnings\n",
    "warnings.filterwarnings('ignore')"
   ]
  },
  {
   "cell_type": "code",
   "execution_count": 2,
   "metadata": {
    "collapsed": true
   },
   "outputs": [],
   "source": [
    "import kesh_autoseg_tools as kat"
   ]
  },
  {
   "cell_type": "markdown",
   "metadata": {},
   "source": [
    "# New Functions"
   ]
  },
  {
   "cell_type": "markdown",
   "metadata": {},
   "source": [
    "# Intro\n",
    "\n",
    "The purpose of this notebook is to test a interim solution to automatic segmentation of whole-brain datasets into fascicle models. This interim solution uses freesurfer regions to get in the ballpark, then recobundles to clean up the results and pyAFQ to quantify the metrics along the track and AFQ browser to view the results."
   ]
  },
  {
   "cell_type": "code",
   "execution_count": 3,
   "metadata": {
    "collapsed": true
   },
   "outputs": [],
   "source": [
    "import pandas as pd\n",
    "import os\n",
    "from glob import glob\n",
    "\n",
    "import seaborn as sns\n",
    "import matplotlib.pyplot as plt\n",
    "\n",
    "import nilearn.plotting as nip\n",
    "import nibabel as nib\n",
    "import dipy as dip\n",
    "\n",
    "from IPython.display import Image\n",
    "import numpy as np\n",
    "\n",
    "import dipy.tracking.utils as dtu"
   ]
  },
  {
   "cell_type": "markdown",
   "metadata": {},
   "source": [
    "Set paths"
   ]
  },
  {
   "cell_type": "code",
   "execution_count": 4,
   "metadata": {
    "collapsed": true
   },
   "outputs": [],
   "source": [
    "# Select output directory\n",
    "putdir = './test_dev_pyafq'\n",
    "if not os.path.exists(putdir):\n",
    "    os.mkdir(putdir)"
   ]
  },
  {
   "cell_type": "code",
   "execution_count": 5,
   "metadata": {
    "collapsed": true
   },
   "outputs": [],
   "source": [
    "roi_matrix_path = 'WM_pathways_freesurfer_based_seg_EC_KMJmod.xlsx'\n",
    "\n",
    "pathpath = '/Users/kesshijordan/paths/pyafquicobundles_freesurfer_test_basepath.txt'\n",
    "\n",
    "with open(pathpath, 'r') as myfile:\n",
    "    case_basepath = myfile.read().replace('\\n', '').replace('\\'','')"
   ]
  },
  {
   "cell_type": "markdown",
   "metadata": {},
   "source": [
    "Load and unpack the streamlines and aparc+aseg file"
   ]
  },
  {
   "cell_type": "code",
   "execution_count": 6,
   "metadata": {
    "collapsed": true
   },
   "outputs": [],
   "source": [
    "#aparc aseg file is the freesurfer segmentation\n",
    "apac_path = glob(os.path.join(case_basepath,'aparc+aseg_di*.nii*'))[0]\n",
    "\n",
    "#metrics we want to quantify\n",
    "fa_path = glob(os.path.join(case_basepath, '*_fa.nii*'))[0]\n",
    "md_path = glob(os.path.join(case_basepath, '*_md.nii*'))[0]\n",
    "\n",
    "#whole brain tractography we want to segment\n",
    "wb_path = glob(os.path.join(case_basepath, 'Whole_Brain*newapi.trk'))[0]"
   ]
  },
  {
   "cell_type": "code",
   "execution_count": 7,
   "metadata": {
    "collapsed": true
   },
   "outputs": [],
   "source": [
    "fa_im = nib.load(fa_path)\n",
    "fa_aff = fa_im.affine\n",
    "fa_data = fa_im.get_data()\n",
    "\n",
    "apac_im = nib.load(apac_path)\n",
    "apac_aff = apac_im.affine"
   ]
  },
  {
   "cell_type": "code",
   "execution_count": 8,
   "metadata": {},
   "outputs": [
    {
     "name": "stdout",
     "output_type": "stream",
     "text": [
      "calc lengths\n",
      "filter\n"
     ]
    }
   ],
   "source": [
    "tg, hdr = kat.loadtgm_newapi(wb_path)\n",
    "sls = tg.streamlines\n",
    "#Only keep streamlines greater than 40mm. We don't really trust segments shorter than this\n",
    "long_sls = kat.filter_length(sls) "
   ]
  },
  {
   "cell_type": "code",
   "execution_count": 13,
   "metadata": {
    "collapsed": true
   },
   "outputs": [],
   "source": [
    "apac_aff = nib.load(apac_path).affine\n",
    "diff_aff = nib.load(fa_path).affine"
   ]
  },
  {
   "cell_type": "code",
   "execution_count": 14,
   "metadata": {
    "collapsed": true
   },
   "outputs": [],
   "source": [
    "roi_matrix=pd.read_excel(roi_matrix_path)"
   ]
  },
  {
   "cell_type": "code",
   "execution_count": 15,
   "metadata": {
    "collapsed": true
   },
   "outputs": [],
   "source": [
    "kkmydict = kat.build_dict('Left ARCUATE', roi_matrix=roi_matrix)\n",
    "kkinclude, kkexclude = kat.combine_rois(kkmydict, nib.load(apac_path).get_data())"
   ]
  },
  {
   "cell_type": "code",
   "execution_count": 16,
   "metadata": {},
   "outputs": [
    {
     "data": {
      "text/plain": [
       "{'exclude': {'set-1': {'Left-Caudate': 11,\n",
       "   'Left-Pallidum': 13,\n",
       "   'Left-Putamen': 12,\n",
       "   'Left-Thalamus proper': 10}},\n",
       " 'include': {'set1': {'ctx-lh-bankssts': 1001,\n",
       "   'ctx-lh-inferiortemporal': 1009,\n",
       "   'ctx-lh-middletemporal': 1015,\n",
       "   'ctx-lh-superiortemporal': 1030,\n",
       "   'ctx-lh-temporalpole': 1033,\n",
       "   'ctx-lh-transversetemporal': 1034},\n",
       "  'set2': {'ctx-lh-caudalmiddlefrontal': 1003,\n",
       "   'ctx-lh-parsopercularis': 1018,\n",
       "   'ctx-lh-parsorbitalis': 1019,\n",
       "   'ctx-lh-parstriangularis': 1020,\n",
       "   'ctx-lh-precentral': 1024,\n",
       "   'ctx-lh-rostralmiddlefrontal': 1027}}}"
      ]
     },
     "execution_count": 16,
     "metadata": {},
     "output_type": "execute_result"
    }
   ],
   "source": [
    "kkmydict"
   ]
  },
  {
   "cell_type": "code",
   "execution_count": null,
   "metadata": {},
   "outputs": [],
   "source": [
    "Image(kat.genren_AGG(long_sls[::100], aff=fa_aff, roi1=kkinclude[:,:,:,0], roi2=kkinclude[:,:,:,1]))"
   ]
  },
  {
   "cell_type": "markdown",
   "metadata": {},
   "source": [
    "TEMPLATE INFORMATION"
   ]
  },
  {
   "cell_type": "code",
   "execution_count": null,
   "metadata": {
    "collapsed": true
   },
   "outputs": [],
   "source": [
    "#template_basepath = '/Users/kesshijordan/Desktop/IU_Bloomington/qb_templates/Base_CTRL'"
   ]
  },
  {
   "cell_type": "code",
   "execution_count": null,
   "metadata": {
    "collapsed": true
   },
   "outputs": [],
   "source": [
    "track_list_path = 'WM_pathways_track_list.xlsx'\n",
    "roi_matrix_path = 'WM_pathways_freesurfer_based_seg_EC_KMJmod.xlsx'\n",
    "file_map_path = 'WM_pathways_recobundles_based_seg.xlsx'"
   ]
  },
  {
   "cell_type": "code",
   "execution_count": null,
   "metadata": {
    "collapsed": true
   },
   "outputs": [],
   "source": [
    "import dipy.tracking.utils as dtu\n",
    "import dipy.tracking.streamline as dts"
   ]
  },
  {
   "cell_type": "code",
   "execution_count": 17,
   "metadata": {
    "collapsed": true
   },
   "outputs": [],
   "source": [
    "from scipy.spatial.distance import cdist\n",
    "\n",
    "#COPIED FROM PYAFQ\n",
    "def _check_sl_with_inclusion(sl, include_rois, tol):\n",
    "    \"\"\"\n",
    "    Helper function to check that a streamline is close to a list of\n",
    "    inclusion ROIS.\n",
    "    \"\"\"\n",
    "    dist = []\n",
    "    for roi in include_rois:\n",
    "        dist.append(cdist(sl, roi, 'euclidean'))\n",
    "        if np.min(dist[-1]) > tol:\n",
    "            # Too far from one of them:\n",
    "            return False, []\n",
    "    # Apparently you checked all the ROIs and it was close to all of them\n",
    "    return True, dist\n",
    "\n",
    "\n",
    "#COPIED FROM PYAFQ\n",
    "def _check_sl_with_exclusion(sl, exclude_rois, tol):\n",
    "    \"\"\" Helper function to check that a streamline is not too close to a list\n",
    "    of exclusion ROIs.\n",
    "    \"\"\"\n",
    "    for roi in exclude_rois:\n",
    "        \n",
    "        if np.min(cdist(sl, roi, 'euclidean')) < tol:\n",
    "            return False\n",
    "    # Either there are no exclusion ROIs, or you are not close to any:\n",
    "    return True\n",
    "\n",
    "#BEGIN NEW FUNCTIONS\n",
    "# make dictionary from excel sheet\n",
    "def build_volumetric_atlas_dict(track_name, roi_df):\n",
    "    rois = roi_df[track_name]\n",
    "    roi_groups = list(rois.value_counts().index)\n",
    "\n",
    "    roi_dict = {}\n",
    "    roi_dict['include'] = {}\n",
    "    roi_dict['exclude'] = {}\n",
    "\n",
    "    for i in roi_groups:\n",
    "        if i > 0:\n",
    "            roitype = 'include'\n",
    "        elif i < 0:\n",
    "            roitype = 'exclude'\n",
    "        else:\n",
    "            raise('UHOH')\n",
    "        setname = 'set' + str(int(i))\n",
    "        roi_dict[roitype][setname] = {}\n",
    "\n",
    "        temp = roi_df[rois == i]\n",
    "        for j, name in enumerate(temp['VOIS']):\n",
    "            roi_dict[roitype][setname][name] = temp['aparc+aseg'].values[j]\n",
    "    return roi_dict\n",
    "\n",
    "\n",
    "# combine the rois into a single \"NOT\" exclusion and sets of \"AND\" inclusion\n",
    "def combine_rois(mydict, apac):\n",
    "    x, y, z = apac.shape\n",
    "    \n",
    "    include_coords = []\n",
    "    exclude_coords = []\n",
    "    \n",
    "    for i, iset in enumerate(mydict['include'].keys()):\n",
    "        include = np.zeros([x, y, z])\n",
    "        for item in mydict['include'][iset].items():\n",
    "            include += 1*(apac == item[-1])\n",
    "        include_coords.append(np.array(np.where(include > 0)).T)\n",
    "    for j, jset in enumerate(mydict['exclude'].keys()):\n",
    "        for item in mydict['exclude'][jset].items():\n",
    "            exclude_coords.append(np.array(np.where(apac == item[-1])).T)\n",
    "    return include_coords, exclude_coords\n",
    "\n",
    "\n",
    "# targeting script to target streamlines with ROIs\n",
    "def check_targets(sls, include, exclude, tol):\n",
    "    keep_sls=[]\n",
    "    keep_array = np.zeros(len(sls))\n",
    "    for i, sl in enumerate(sls):\n",
    "        is_close_include, dist = _check_sl_with_inclusion(sl, include, tol)\n",
    "        if is_close_include:\n",
    "            is_close_exclude = _check_sl_with_exclusion(sl, exclude, tol)\n",
    "            if is_close_exclude:\n",
    "                keep_array[i] = 1\n",
    "                keep_sls.append(sl)\n",
    "    return keep_array, keep_sls\n",
    "\n",
    "\n",
    "def calculate_volumetric_atlas_score(streamlines, csv_lookup_path,\n",
    "                                     volumetric_atlas_path,\n",
    "                                     track_list_path, file_map_path, aff, tol):\n",
    "    # Here we assume the csv column names match track_list names\n",
    "    roi_df = pd.read_excel(csv_lookup_path)\n",
    "    track_list_df = pd.read_excel(track_list_path, index_col='column_name')\n",
    "    track_list = list(track_list_df[track_list_df.segment_this > 0].index)[0:3]\n",
    "\n",
    "    # Build dictionary of include/exclude rois and freesurfer codes from csv\n",
    "    roi_dict = {}\n",
    "    for tr in track_list:\n",
    "        roi_dict[tr] = build_volumetric_atlas_dict(tr, roi_df=roi_df)\n",
    "    atlas_data = nib.load(volumetric_atlas_path).get_data()\n",
    "\n",
    "    streamlines_by_bundle = np.zeros([len(streamlines), len(track_list)])\n",
    "    keep_bundles = []\n",
    "    tgt_bundles = []\n",
    "    for i, tr in enumerate(track_list):\n",
    "        print(tr)\n",
    "        xfmd_sls = dts.Streamlines(dtu.move_streamlines(streamlines,np.linalg.inv(aff)))\n",
    "        include, exclude = combine_rois(roi_dict[tr], atlas_data)\n",
    "        streamlines_by_bundle[:, i], test_bundle = check_targets(\n",
    "            xfmd_sls, include, exclude, tol)\n",
    "        ##test old way\n",
    "        include2, exclude2 = kat.combine_rois(roi_dict[tr], atlas_data)\n",
    "        test2 = kat.targetme(streamlines, include2, exclude2, aff)\n",
    "        tgt_bundles.append(test2)\n",
    "        \n",
    "        #kat.genren_AGG(test2, roi1=include2[:,:,:,0], roi2=include2[:,:,:,1], showme=True)\n",
    "        keep_bundles.append(test2)\n",
    "        \n",
    "        #kat.genren_AGG(streamlines[::100], roi1=include2[:,:,:,0], roi2=include2[:,:,:,1],  showme=True)\n",
    "        #kat.genren_AGG(list(dtu.move_streamlines(test2,np.linalg.inv(aff))), roi1=include2[:,:,:,0], showme=True)\n",
    "        #kat.genren_AGG(xfmd_sls, roi1=include2[:,:,:,0], showme=True)\n",
    "    return streamlines_by_bundle, include2, exclude2, keep_bundles\n"
   ]
  },
  {
   "cell_type": "code",
   "execution_count": 18,
   "metadata": {
    "collapsed": true
   },
   "outputs": [],
   "source": [
    "track_list_df = pd.read_excel(track_list_path, index_col='column_name')\n",
    "track_list = list(track_list_df[track_list_df.segment_this > 0].index)"
   ]
  },
  {
   "cell_type": "code",
   "execution_count": 19,
   "metadata": {
    "collapsed": true
   },
   "outputs": [],
   "source": [
    "subsampsls = long_sls[::10]"
   ]
  },
  {
   "cell_type": "code",
   "execution_count": 24,
   "metadata": {},
   "outputs": [
    {
     "name": "stdout",
     "output_type": "stream",
     "text": [
      "Left ASLANT\n",
      "Left ARCUATE\n"
     ]
    },
    {
     "ename": "KeyboardInterrupt",
     "evalue": "",
     "output_type": "error",
     "traceback": [
      "\u001b[0;31m---------------------------------------------------------------------------\u001b[0m",
      "\u001b[0;31mKeyboardInterrupt\u001b[0m                         Traceback (most recent call last)",
      "\u001b[0;32m<ipython-input-24-849ea6247b31>\u001b[0m in \u001b[0;36m<module>\u001b[0;34m()\u001b[0m\n\u001b[1;32m      5\u001b[0m                                                                   \u001b[0mfile_map_path\u001b[0m\u001b[0;34m,\u001b[0m\u001b[0;34m\u001b[0m\u001b[0m\n\u001b[1;32m      6\u001b[0m                                                                   \u001b[0mfa_aff\u001b[0m\u001b[0;34m,\u001b[0m\u001b[0;34m\u001b[0m\u001b[0m\n\u001b[0;32m----> 7\u001b[0;31m                                                                   tol=1)\n\u001b[0m",
      "\u001b[0;32m<ipython-input-21-d59002e9a12b>\u001b[0m in \u001b[0;36mcalculate_volumetric_atlas_score\u001b[0;34m(streamlines, csv_lookup_path, volumetric_atlas_path, track_list_path, file_map_path, aff, tol)\u001b[0m\n\u001b[1;32m    109\u001b[0m         \u001b[0minclude\u001b[0m\u001b[0;34m,\u001b[0m \u001b[0mexclude\u001b[0m \u001b[0;34m=\u001b[0m \u001b[0mcombine_rois\u001b[0m\u001b[0;34m(\u001b[0m\u001b[0mroi_dict\u001b[0m\u001b[0;34m[\u001b[0m\u001b[0mtr\u001b[0m\u001b[0;34m]\u001b[0m\u001b[0;34m,\u001b[0m \u001b[0matlas_data\u001b[0m\u001b[0;34m)\u001b[0m\u001b[0;34m\u001b[0m\u001b[0m\n\u001b[1;32m    110\u001b[0m         streamlines_by_bundle[:, i], test_bundle = check_targets(\n\u001b[0;32m--> 111\u001b[0;31m             xfmd_sls, include, exclude, tol)\n\u001b[0m\u001b[1;32m    112\u001b[0m         \u001b[0;31m##test old way\u001b[0m\u001b[0;34m\u001b[0m\u001b[0;34m\u001b[0m\u001b[0m\n\u001b[1;32m    113\u001b[0m         \u001b[0minclude2\u001b[0m\u001b[0;34m,\u001b[0m \u001b[0mexclude2\u001b[0m \u001b[0;34m=\u001b[0m \u001b[0mkat\u001b[0m\u001b[0;34m.\u001b[0m\u001b[0mcombine_rois\u001b[0m\u001b[0;34m(\u001b[0m\u001b[0mroi_dict\u001b[0m\u001b[0;34m[\u001b[0m\u001b[0mtr\u001b[0m\u001b[0;34m]\u001b[0m\u001b[0;34m,\u001b[0m \u001b[0matlas_data\u001b[0m\u001b[0;34m)\u001b[0m\u001b[0;34m\u001b[0m\u001b[0m\n",
      "\u001b[0;32m<ipython-input-21-d59002e9a12b>\u001b[0m in \u001b[0;36mcheck_targets\u001b[0;34m(sls, include, exclude, tol)\u001b[0m\n\u001b[1;32m     78\u001b[0m     \u001b[0mkeep_array\u001b[0m \u001b[0;34m=\u001b[0m \u001b[0mnp\u001b[0m\u001b[0;34m.\u001b[0m\u001b[0mzeros\u001b[0m\u001b[0;34m(\u001b[0m\u001b[0mlen\u001b[0m\u001b[0;34m(\u001b[0m\u001b[0msls\u001b[0m\u001b[0;34m)\u001b[0m\u001b[0;34m)\u001b[0m\u001b[0;34m\u001b[0m\u001b[0m\n\u001b[1;32m     79\u001b[0m     \u001b[0;32mfor\u001b[0m \u001b[0mi\u001b[0m\u001b[0;34m,\u001b[0m \u001b[0msl\u001b[0m \u001b[0;32min\u001b[0m \u001b[0menumerate\u001b[0m\u001b[0;34m(\u001b[0m\u001b[0msls\u001b[0m\u001b[0;34m)\u001b[0m\u001b[0;34m:\u001b[0m\u001b[0;34m\u001b[0m\u001b[0m\n\u001b[0;32m---> 80\u001b[0;31m         \u001b[0mis_close_include\u001b[0m\u001b[0;34m,\u001b[0m \u001b[0mdist\u001b[0m \u001b[0;34m=\u001b[0m \u001b[0m_check_sl_with_inclusion\u001b[0m\u001b[0;34m(\u001b[0m\u001b[0msl\u001b[0m\u001b[0;34m,\u001b[0m \u001b[0minclude\u001b[0m\u001b[0;34m,\u001b[0m \u001b[0mtol\u001b[0m\u001b[0;34m)\u001b[0m\u001b[0;34m\u001b[0m\u001b[0m\n\u001b[0m\u001b[1;32m     81\u001b[0m         \u001b[0;32mif\u001b[0m \u001b[0mis_close_include\u001b[0m\u001b[0;34m:\u001b[0m\u001b[0;34m\u001b[0m\u001b[0m\n\u001b[1;32m     82\u001b[0m             \u001b[0mis_close_exclude\u001b[0m \u001b[0;34m=\u001b[0m \u001b[0m_check_sl_with_exclusion\u001b[0m\u001b[0;34m(\u001b[0m\u001b[0msl\u001b[0m\u001b[0;34m,\u001b[0m \u001b[0mexclude\u001b[0m\u001b[0;34m,\u001b[0m \u001b[0mtol\u001b[0m\u001b[0;34m)\u001b[0m\u001b[0;34m\u001b[0m\u001b[0m\n",
      "\u001b[0;32m<ipython-input-21-d59002e9a12b>\u001b[0m in \u001b[0;36m_check_sl_with_inclusion\u001b[0;34m(sl, include_rois, tol)\u001b[0m\n\u001b[1;32m      9\u001b[0m     \u001b[0mdist\u001b[0m \u001b[0;34m=\u001b[0m \u001b[0;34m[\u001b[0m\u001b[0;34m]\u001b[0m\u001b[0;34m\u001b[0m\u001b[0m\n\u001b[1;32m     10\u001b[0m     \u001b[0;32mfor\u001b[0m \u001b[0mroi\u001b[0m \u001b[0;32min\u001b[0m \u001b[0minclude_rois\u001b[0m\u001b[0;34m:\u001b[0m\u001b[0;34m\u001b[0m\u001b[0m\n\u001b[0;32m---> 11\u001b[0;31m         \u001b[0mdist\u001b[0m\u001b[0;34m.\u001b[0m\u001b[0mappend\u001b[0m\u001b[0;34m(\u001b[0m\u001b[0mcdist\u001b[0m\u001b[0;34m(\u001b[0m\u001b[0msl\u001b[0m\u001b[0;34m,\u001b[0m \u001b[0mroi\u001b[0m\u001b[0;34m,\u001b[0m \u001b[0;34m'euclidean'\u001b[0m\u001b[0;34m)\u001b[0m\u001b[0;34m)\u001b[0m\u001b[0;34m\u001b[0m\u001b[0m\n\u001b[0m\u001b[1;32m     12\u001b[0m         \u001b[0;32mif\u001b[0m \u001b[0mnp\u001b[0m\u001b[0;34m.\u001b[0m\u001b[0mmin\u001b[0m\u001b[0;34m(\u001b[0m\u001b[0mdist\u001b[0m\u001b[0;34m[\u001b[0m\u001b[0;34m-\u001b[0m\u001b[0;36m1\u001b[0m\u001b[0;34m]\u001b[0m\u001b[0;34m)\u001b[0m \u001b[0;34m>\u001b[0m \u001b[0mtol\u001b[0m\u001b[0;34m:\u001b[0m\u001b[0;34m\u001b[0m\u001b[0m\n\u001b[1;32m     13\u001b[0m             \u001b[0;31m# Too far from one of them:\u001b[0m\u001b[0;34m\u001b[0m\u001b[0;34m\u001b[0m\u001b[0m\n",
      "\u001b[0;32m/Users/kesshijordan/.local/lib/python3.6/site-packages/scipy/spatial/distance.py\u001b[0m in \u001b[0;36mcdist\u001b[0;34m(XA, XB, metric, *args, **kwargs)\u001b[0m\n\u001b[1;32m   2658\u001b[0m             cdist_fn = getattr(_distance_wrap,\n\u001b[1;32m   2659\u001b[0m                                \"cdist_%s_%s_wrap\" % (metric_name, typ))\n\u001b[0;32m-> 2660\u001b[0;31m             \u001b[0mcdist_fn\u001b[0m\u001b[0;34m(\u001b[0m\u001b[0mXA\u001b[0m\u001b[0;34m,\u001b[0m \u001b[0mXB\u001b[0m\u001b[0;34m,\u001b[0m \u001b[0mdm\u001b[0m\u001b[0;34m,\u001b[0m \u001b[0;34m**\u001b[0m\u001b[0mkwargs\u001b[0m\u001b[0;34m)\u001b[0m\u001b[0;34m\u001b[0m\u001b[0m\n\u001b[0m\u001b[1;32m   2661\u001b[0m             \u001b[0;32mreturn\u001b[0m \u001b[0mdm\u001b[0m\u001b[0;34m\u001b[0m\u001b[0m\n\u001b[1;32m   2662\u001b[0m \u001b[0;34m\u001b[0m\u001b[0m\n",
      "\u001b[0;31mKeyboardInterrupt\u001b[0m: "
     ]
    }
   ],
   "source": [
    "sxb_fs_atlas_score, incl, excl, bund = calculate_volumetric_atlas_score(subsampsls, \n",
    "                                                                  roi_matrix_path,\n",
    "                                                                  apac_path,\n",
    "                                                                  track_list_path, \n",
    "                                                                  file_map_path, \n",
    "                                                                  fa_aff,\n",
    "                                                                  tol=1)"
   ]
  },
  {
   "cell_type": "code",
   "execution_count": null,
   "metadata": {
    "collapsed": true
   },
   "outputs": [],
   "source": [
    "sxb_fs_atlas_score.shape"
   ]
  },
  {
   "cell_type": "code",
   "execution_count": 63,
   "metadata": {
    "collapsed": true
   },
   "outputs": [],
   "source": [
    "def get_bundle(sls, sls_by_bundles, showme=False):\n",
    "    bundle_list = []\n",
    "    for b in range(0,sls_by_bundles.shape[1]):\n",
    "        mysls=[]\n",
    "        for i,s in enumerate(sls):\n",
    "            if sls_by_bundles[i,b] > 0:\n",
    "                mysls.append(s)\n",
    "        if showme:\n",
    "            try:\n",
    "                kat.genren_AGG(mysls, showme=True)\n",
    "            except:\n",
    "                print('uhoh')\n",
    "        bundle_list.append(mysls)\n",
    "    return bundle_list"
   ]
  },
  {
   "cell_type": "code",
   "execution_count": null,
   "metadata": {
    "collapsed": true
   },
   "outputs": [],
   "source": [
    "bundlist = get_bundle(subsampsls, sxb_fs_atlas_score, showme=False)"
   ]
  },
  {
   "cell_type": "code",
   "execution_count": 64,
   "metadata": {
    "collapsed": true
   },
   "outputs": [],
   "source": [
    "from dipy.viz import window, actor\n",
    "def make_spin_snapshots(ren, Nframes=25, size=(200,200), savename='temp'):\n",
    "    increment = int(360/Nframes)\n",
    "    for i in range(0, Nframes):\n",
    "        ren.yaw(increment)\n",
    "        window.record(ren, out_path=savename + str(i)+'.png', size=size)\n",
    "    return savename"
   ]
  },
  {
   "cell_type": "code",
   "execution_count": 65,
   "metadata": {
    "collapsed": true
   },
   "outputs": [],
   "source": [
    "def qc_multibundle_ren(bundle_list, showme=False):\n",
    "    ren = window.Renderer()\n",
    "    colormap = actor.create_colormap(np.arange(len(bundle_list)+1))\n",
    "\n",
    "    window.clear(ren)\n",
    "    ren.set_camera(position=(-606.93, -153.23, 28.70),\n",
    "                        focal_point=(2.78, 11.06, 15.66),\n",
    "                        view_up=(0, 0, 1))\n",
    "    ren.SetBackground(1, 1, 1)\n",
    "    for i,clusters in enumerate(bundle_list):\n",
    "        ren.add(actor.streamtube(clusters, colormap[i], linewidth=0.4))\n",
    "    if showme:\n",
    "        window.show(ren)\n",
    "    return ren"
   ]
  },
  {
   "cell_type": "code",
   "execution_count": 66,
   "metadata": {
    "collapsed": true
   },
   "outputs": [],
   "source": [
    "def qc_bundle_ren(bundle, showme=False):\n",
    "    ren = window.Renderer()\n",
    "    ren.SetBackground(1, 1, 1)\n",
    "\n",
    "    window.clear(ren)\n",
    "    ren.set_camera(position=(-606.93, -153.23, 28.70),\n",
    "                   focal_point=(2.78, 11.06, 15.66),\n",
    "                   view_up=(0, 0, 1))\n",
    "\n",
    "    ren.add(actor.streamtube(bundle, linewidth=0.4))\n",
    "    if showme:\n",
    "        window.show(ren)\n",
    "    return ren"
   ]
  },
  {
   "cell_type": "code",
   "execution_count": 67,
   "metadata": {
    "collapsed": true
   },
   "outputs": [],
   "source": [
    "from PIL import Image as pilim\n",
    "from PIL import ImageSequence\n",
    "\n",
    "def make_mosaic(input_base_name, output_base_name='temp', mo_height=1000, mo_width=1000):\n",
    "    im=pilim.open(input_base_name+str(0)+'.png')\n",
    "    panel_width, panel_height = im.size\n",
    "    mosaic = pilim.new('RGB', (mo_width,mo_height))\n",
    "    hop = 0\n",
    "    for j in range(0,mo_height,panel_height):\n",
    "        for i in range(0,mo_width,panel_width):\n",
    "            im=pilim.open(input_base_name+str(hop)+'.png')\n",
    "            mosaic.paste(im, (i,j))\n",
    "            hop+=1\n",
    "    save_name = output_base_name+'_mosaic.png'\n",
    "    mosaic.save(save_name)\n",
    "    return save_name"
   ]
  },
  {
   "cell_type": "code",
   "execution_count": 68,
   "metadata": {
    "collapsed": true
   },
   "outputs": [],
   "source": [
    "import tempfile\n",
    "def qc_bundle_ren(bundle, showme=False):\n",
    "    ren = window.Renderer()\n",
    "    ren.SetBackground(1, 1, 1)\n",
    "\n",
    "    window.clear(ren)\n",
    "    ren.set_camera(position=(-606.93, -153.23, 28.70),\n",
    "                   focal_point=(2.78, 11.06, 15.66),\n",
    "                   view_up=(0, 0, 1))\n",
    "    ren.add(actor.streamtube(bundle, linewidth=0.3))\n",
    "    if showme:\n",
    "        window.show(ren)\n",
    "    return ren\n",
    "\n",
    "\n",
    "def qc_multibundle_ren(bundle_list, showme=False):\n",
    "    ren = window.Renderer()\n",
    "    colormap = actor.create_colormap(np.arange(len(bundle_list) + 1))\n",
    "\n",
    "    window.clear(ren)\n",
    "    ren.set_camera(position=(-606.93, -153.23, 28.70),\n",
    "                   focal_point=(2.78, 11.06, 15.66),\n",
    "                   view_up=(0, 0, 1))\n",
    "    ren.SetBackground(1, 1, 1)\n",
    "    for i, bundle in enumerate(bundle_list):\n",
    "        ren.add(actor.streamtube(bundle, colormap[i], linewidth=0.3))\n",
    "    if showme:\n",
    "        window.show(ren)\n",
    "    return ren\n",
    "\n",
    "\n",
    "def make_spin_snapshots(ren, output_path, Nframes=25, size=(200, 200)):\n",
    "    png_paths = []\n",
    "    increment = int(360 / Nframes)\n",
    "    for i in range(0, Nframes):\n",
    "        pngpath = os.path.join(output_path, str(i) + '.png')\n",
    "        ren.yaw(increment)\n",
    "        window.record(ren, out_path=pngpath, size=size)\n",
    "        png_paths.append(pngpath)\n",
    "    return png_paths\n",
    "\n",
    "\n",
    "def make_mosaic(ren, output_path, Nframes=25, patch_size=(200, 200),\n",
    "                mosaic_height=1000, mosaic_width=1000):\n",
    "    tdir = tempfile.gettempdir()\n",
    "    png_paths = make_spin_snapshots(ren, tdir, Nframes, patch_size)\n",
    "    im = pilim.open(png_paths[0])\n",
    "    panel_width, panel_height = im.size\n",
    "    mosaic = pilim.new('RGB', (mosaic_width, mosaic_height))\n",
    "    hop = 0\n",
    "    for j in range(0, mosaic_height, panel_height):\n",
    "        for i in range(0, mosaic_width, panel_width):\n",
    "            im = pilim.open(png_paths[hop])\n",
    "            mosaic.paste(im, (i, j))\n",
    "            hop += 1\n",
    "    mosaic.save(output_path)\n",
    "    return output_path"
   ]
  },
  {
   "cell_type": "code",
   "execution_count": 22,
   "metadata": {},
   "outputs": [
    {
     "ename": "NameError",
     "evalue": "name 'bundlist' is not defined",
     "output_type": "error",
     "traceback": [
      "\u001b[0;31m---------------------------------------------------------------------------\u001b[0m",
      "\u001b[0;31mNameError\u001b[0m                                 Traceback (most recent call last)",
      "\u001b[0;32m<ipython-input-22-fbade7136e61>\u001b[0m in \u001b[0;36m<module>\u001b[0;34m()\u001b[0m\n\u001b[0;32m----> 1\u001b[0;31m \u001b[0mkren\u001b[0m \u001b[0;34m=\u001b[0m \u001b[0mqc_bundle_ren\u001b[0m\u001b[0;34m(\u001b[0m\u001b[0mbundlist\u001b[0m\u001b[0;34m[\u001b[0m\u001b[0;36m0\u001b[0m\u001b[0;34m]\u001b[0m\u001b[0;34m)\u001b[0m\u001b[0;34m\u001b[0m\u001b[0m\n\u001b[0m\u001b[1;32m      2\u001b[0m \u001b[0mkren2\u001b[0m \u001b[0;34m=\u001b[0m \u001b[0mqc_multibundle_ren\u001b[0m\u001b[0;34m(\u001b[0m\u001b[0mbundlist\u001b[0m\u001b[0;34m)\u001b[0m\u001b[0;34m\u001b[0m\u001b[0m\n",
      "\u001b[0;31mNameError\u001b[0m: name 'bundlist' is not defined"
     ]
    }
   ],
   "source": [
    "kren = qc_bundle_ren(bundlist[0])\n",
    "kren2 = qc_multibundle_ren(bundlist)"
   ]
  },
  {
   "cell_type": "code",
   "execution_count": null,
   "metadata": {
    "collapsed": true
   },
   "outputs": [],
   "source": [
    "Image(make_mosaic(kren, 'temp.png'))"
   ]
  },
  {
   "cell_type": "code",
   "execution_count": null,
   "metadata": {
    "collapsed": true
   },
   "outputs": [],
   "source": [
    "Image(make_mosaic(kren2, './temp2.png'))"
   ]
  },
  {
   "cell_type": "markdown",
   "metadata": {},
   "source": [
    "# Part II"
   ]
  },
  {
   "cell_type": "code",
   "execution_count": 33,
   "metadata": {
    "collapsed": true
   },
   "outputs": [],
   "source": [
    "def build_bundle_atlas_dict(bundle_atlas_directory, whole_brain_streamline, name_correspondence_df):\n",
    "    bundles = glob(bundle_atlas_directory+'/*.trk')\n",
    "    bundle_dict={}\n",
    "    for bpath in bundles:\n",
    "        basename = os.path.basename(bpath)\n",
    "        bname = list(name_correspondence_df[name_correspondence_df['file_name']==basename]['column_name'])[0]\n",
    "        prune = list(name_correspondence_df[name_correspondence_df['file_name']==basename]['pruning_thresh'])[0]\n",
    "\n",
    "        bundle_dict[bname] = {}\n",
    "        bundle_dict[bname]['path'] = bpath\n",
    "        bundle_dict[bname]['pruning_threshold'] = prune\n",
    "    return bundle_dict\n",
    "\n",
    "def calculate_bundle_atlas_score(bundle_atlas_dict, whole_brain, mni2sub_xfm,\n",
    "                                 cluster_thr=5, pruning_thr=10,\n",
    "                                 reduction_thr=10):\n",
    "    cluster_map = qbx_with_merge(whole_brain, thresholds=[40, 25, 20, 10])\n",
    "    rb = RecoBundles(whole_brain, cluster_map=cluster_map,\n",
    "                     cluster_thr=cluster_thr)\n",
    "    track_list = bundle_atlas_dict.keys()\n",
    "    print(track_list)\n",
    "    streamlines_by_bundle = np.zeros([len(whole_brain), len(track_list)])\n",
    "    for i, b in enumerate(track_list):\n",
    "        print(b)\n",
    "        bundle_xfmd = dtu.move_streamlines(bundle_atlas_dict[b], aff)\n",
    "        b_atlassp, labels, b_subsp = rb.recognize(model_bundle=bundle_xfmd,\n",
    "                                                  model_clust_thr=5.,\n",
    "                                                  reduction_thr=10,\n",
    "                                                  pruning_thr=pruning_thr)\n",
    "        streamlines_by_bundle[:, i] = labels\n",
    "    return streamlines_by_bundle"
   ]
  },
  {
   "cell_type": "code",
   "execution_count": 34,
   "metadata": {
    "collapsed": true
   },
   "outputs": [],
   "source": [
    "bundle_atlas_path = '/Users/kesshijordan/Desktop/Kesh_Templates/TRIO_Children/ccipt5/'\n",
    "whole_brain_atlas_path = '/Users/kesshijordan/ref_data/Atlas_in_MNI_Space_16_bundles/whole_brain/whole_brain_MNI.trk'\n",
    "bundle_template_name_correspondence = 'WM_pathways_recobundles_based_seg_cci.xlsx'\n",
    "name_correspondence_df = pd.read_excel(bundle_template_name_correspondence)"
   ]
  },
  {
   "cell_type": "code",
   "execution_count": 35,
   "metadata": {
    "collapsed": true
   },
   "outputs": [],
   "source": [
    "bundle_atlas_path = '/Users/kesshijordan/ref_data/Atlas_in_MNI_Space_16_bundles/bundles/'\n",
    "whole_brain_atlas_path = '/Users/kesshijordan/ref_data/Atlas_in_MNI_Space_16_bundles/whole_brain/whole_brain_MNI.trk'\n",
    "bundle_template_name_correspondence = 'pyAFQ_recobundles_lookup.xlsx'\n",
    "track_this = 'pyAFQ_track_this_list.xlsx'\n",
    "name_correspondence_df = pd.read_excel(bundle_template_name_correspondence)"
   ]
  },
  {
   "cell_type": "code",
   "execution_count": 36,
   "metadata": {},
   "outputs": [
    {
     "data": {
      "text/html": [
       "<div>\n",
       "<style scoped>\n",
       "    .dataframe tbody tr th:only-of-type {\n",
       "        vertical-align: middle;\n",
       "    }\n",
       "\n",
       "    .dataframe tbody tr th {\n",
       "        vertical-align: top;\n",
       "    }\n",
       "\n",
       "    .dataframe thead th {\n",
       "        text-align: right;\n",
       "    }\n",
       "</style>\n",
       "<table border=\"1\" class=\"dataframe\">\n",
       "  <thead>\n",
       "    <tr style=\"text-align: right;\">\n",
       "      <th></th>\n",
       "      <th>column_name</th>\n",
       "      <th>file_name</th>\n",
       "      <th>pruning_thresh</th>\n",
       "      <th>pyAFQ_name</th>\n",
       "    </tr>\n",
       "  </thead>\n",
       "  <tbody>\n",
       "    <tr>\n",
       "      <th>0</th>\n",
       "      <td>Left ASLANT</td>\n",
       "      <td>NaN</td>\n",
       "      <td>10</td>\n",
       "      <td>NaN</td>\n",
       "    </tr>\n",
       "    <tr>\n",
       "      <th>1</th>\n",
       "      <td>Left ARCUATE</td>\n",
       "      <td>AF_L.trk</td>\n",
       "      <td>10</td>\n",
       "      <td>NaN</td>\n",
       "    </tr>\n",
       "    <tr>\n",
       "      <th>2</th>\n",
       "      <td>Left SLF I</td>\n",
       "      <td>NaN</td>\n",
       "      <td>10</td>\n",
       "      <td>NaN</td>\n",
       "    </tr>\n",
       "    <tr>\n",
       "      <th>3</th>\n",
       "      <td>Left SLF II</td>\n",
       "      <td>NaN</td>\n",
       "      <td>10</td>\n",
       "      <td>NaN</td>\n",
       "    </tr>\n",
       "    <tr>\n",
       "      <th>4</th>\n",
       "      <td>Left SLF III</td>\n",
       "      <td>NaN</td>\n",
       "      <td>10</td>\n",
       "      <td>NaN</td>\n",
       "    </tr>\n",
       "  </tbody>\n",
       "</table>\n",
       "</div>"
      ],
      "text/plain": [
       "    column_name file_name  pruning_thresh  pyAFQ_name\n",
       "0   Left ASLANT       NaN              10         NaN\n",
       "1  Left ARCUATE  AF_L.trk              10         NaN\n",
       "2    Left SLF I       NaN              10         NaN\n",
       "3   Left SLF II       NaN              10         NaN\n",
       "4  Left SLF III       NaN              10         NaN"
      ]
     },
     "execution_count": 36,
     "metadata": {},
     "output_type": "execute_result"
    }
   ],
   "source": [
    "name_correspondence_df.head()"
   ]
  },
  {
   "cell_type": "code",
   "execution_count": 37,
   "metadata": {
    "collapsed": true
   },
   "outputs": [],
   "source": [
    "mydict = build_bundle_atlas_dict(bundle_atlas_path, whole_brain_atlas_path, name_correspondence_df)"
   ]
  },
  {
   "cell_type": "code",
   "execution_count": 38,
   "metadata": {
    "collapsed": true
   },
   "outputs": [],
   "source": [
    "mni_tg, mni_hdr = kat.loadtgm_newapi(whole_brain_atlas_path)\n",
    "mni_sls = mni_tg.streamlines"
   ]
  },
  {
   "cell_type": "code",
   "execution_count": 39,
   "metadata": {},
   "outputs": [
    {
     "data": {
      "text/plain": [
       "'/Users/kesshijordan/ref_data/Atlas_in_MNI_Space_16_bundles/bundles/'"
      ]
     },
     "execution_count": 39,
     "metadata": {},
     "output_type": "execute_result"
    }
   ],
   "source": [
    "bundle_atlas_path"
   ]
  },
  {
   "cell_type": "code",
   "execution_count": 40,
   "metadata": {
    "collapsed": true
   },
   "outputs": [],
   "source": [
    "temp_tg, temp_hdr = kat.loadtgm_newapi(os.path.join(bundle_atlas_path, 'IFOF_L.trk'))\n",
    "temp_sls = temp_tg.streamlines"
   ]
  },
  {
   "cell_type": "code",
   "execution_count": 41,
   "metadata": {},
   "outputs": [
    {
     "name": "stdout",
     "output_type": "stream",
     "text": [
      "Static streamlines size 7864\n",
      "Moving streamlines size 144678\n",
      "Static streamlines after length reduction 6345\n",
      "Moving streamlines after length reduction 123874\n",
      "Progressive Registration is Enabled\n",
      " Translation  (3 parameters)...\n",
      " Rigid  (6 parameters) ...\n",
      " Similarity (7 parameters) ...\n",
      " Scaling (9 parameters) ...\n",
      " Affine (12 parameters) ...\n",
      "QB static centroids size 32\n",
      "QB moving centroids size 231\n",
      "SLR finished in  2.116 seconds.\n",
      "SLR iterations: 80 \n"
     ]
    }
   ],
   "source": [
    "moved_temp2case, xfm_temp2case, qbc1_temp2pcase, qbc2_temp2case = kat.rough_reg(long_sls[::100], mni_sls)"
   ]
  },
  {
   "cell_type": "code",
   "execution_count": 42,
   "metadata": {},
   "outputs": [
    {
     "data": {
      "image/png": "[encoded data removed]",
      "text/plain": [
       "<IPython.core.display.Image object>"
      ]
     },
     "execution_count": 42,
     "metadata": {},
     "output_type": "execute_result"
    }
   ],
   "source": [
    "Image(kat.genren_AGG(long_sls[::100],moved_temp2case[::100]))"
   ]
  },
  {
   "cell_type": "code",
   "execution_count": 74,
   "metadata": {
    "collapsed": true
   },
   "outputs": [],
   "source": [
    "from dipy.segment.clustering import qbx_and_merge\n",
    "from dipy.segment.bundles import RecoBundles\n",
    "\n",
    "def calculate_bundle_atlas_score(bundle_atlas_dict, whole_brain, template2sub_xfm, \n",
    "                                 cluster_thr=5, pruning_thr=10,\n",
    "                                 reduction_thr=10):\n",
    "    \n",
    "    wb_arrayseq = nib.streamlines.ArraySequence(whole_brain)\n",
    "    \n",
    "    cluster_map = qbx_and_merge(whole_brain, thresholds=[40, 25, 20, 10], verbose=False)\n",
    "    \n",
    "    rb = RecoBundles(wb_arrayseq, cluster_map=cluster_map, verbose=False)\n",
    "    track_list = list(bundle_atlas_dict.keys())\n",
    "    streamlines_by_bundle = np.zeros([len(whole_brain), len(track_list)])\n",
    "    for i, b in enumerate(track_list):\n",
    "        print(b)\n",
    "        b_tg, b_hdr = kat.loadtgm_newapi(bundle_atlas_dict[b]['path'])\n",
    "        \n",
    "        bundle_xfmd = b_tg.copy().apply_affine(template2sub_xfm).streamlines\n",
    "        \n",
    "        b_atlassp, labels, b_subsp = rb.recognize(model_bundle=bundle_xfmd,\n",
    "                                                  model_clust_thr=5.,\n",
    "                                                  reduction_thr=10,\n",
    "                                                  pruning_thr=pruning_thr)\n",
    "        for l in labels:\n",
    "            streamlines_by_bundle[l, i] = 1\n",
    "\n",
    "    return streamlines_by_bundle"
   ]
  },
  {
   "cell_type": "code",
   "execution_count": 75,
   "metadata": {},
   "outputs": [
    {
     "name": "stdout",
     "output_type": "stream",
     "text": [
      "Right CST\n",
      "Right IFOF\n",
      "Left Cingulum\n",
      "Left Fornix\n",
      "Right Uncinate\n",
      "Middle Cerebellar Peduncles\n",
      "Right ARCUATE\n",
      " You have no neighbor streamlines... No bundle recognition\n",
      "Middle Corpus Callosum\n",
      "Right Fornix\n",
      "Left Uncinate\n",
      "Left ARCUATE\n",
      "Forceps Major\n",
      "Forceps Minor\n",
      "Left CST\n",
      "Left IFOF\n",
      "Right Cingulum\n"
     ]
    }
   ],
   "source": [
    "bundle_slsxbundles = calculate_bundle_atlas_score(mydict, long_sls[::10], xfm_temp2case,cluster_thr=5)"
   ]
  },
  {
   "cell_type": "code",
   "execution_count": 77,
   "metadata": {},
   "outputs": [
    {
     "name": "stdout",
     "output_type": "stream",
     "text": [
      "uhoh\n"
     ]
    }
   ],
   "source": [
    "bundlist = get_bundle(long_sls[::10], bundle_slsxbundles, showme=True)"
   ]
  },
  {
   "cell_type": "code",
   "execution_count": 79,
   "metadata": {
    "collapsed": true
   },
   "outputs": [],
   "source": [
    "tracklist = list(mydict.keys())"
   ]
  },
  {
   "cell_type": "code",
   "execution_count": null,
   "metadata": {},
   "outputs": [
    {
     "name": "stdout",
     "output_type": "stream",
     "text": [
      "Right CST\n",
      "uhoh\n",
      "Right IFOF\n",
      "uhoh\n",
      "Left Cingulum\n",
      "uhoh\n",
      "Left Fornix\n",
      "uhoh\n",
      "Right Uncinate\n",
      "uhoh\n",
      "Middle Cerebellar Peduncles\n",
      "uhoh\n",
      "Right ARCUATE\n",
      "uhoh\n",
      "Middle Corpus Callosum\n",
      "uhoh\n",
      "Right Fornix\n",
      "uhoh\n",
      "Left Uncinate\n",
      "Left ARCUATE\n"
     ]
    }
   ],
   "source": [
    "for i,b in enumerate(abund):\n",
    "    print(tracklist[i])\n",
    "    try:\n",
    "        aa = qc_bundle_ren(abund[i])\n",
    "        make_mosaic(aa, tracklist[i]+'_mosaic.png')\n",
    "    except:\n",
    "        print('uhoh')"
   ]
  },
  {
   "cell_type": "code",
   "execution_count": null,
   "metadata": {
    "collapsed": true
   },
   "outputs": [],
   "source": []
  }
 ],
 "metadata": {
  "kernelspec": {
   "display_name": "Python 3",
   "language": "python",
   "name": "python3"
  },
  "language_info": {
   "codemirror_mode": {
    "name": "ipython",
    "version": 3
   },
   "file_extension": ".py",
   "mimetype": "text/x-python",
   "name": "python",
   "nbconvert_exporter": "python",
   "pygments_lexer": "ipython3",
   "version": "3.6.5"
  },
  "toc": {
   "nav_menu": {},
   "number_sections": true,
   "sideBar": true,
   "skip_h1_title": false,
   "toc_cell": false,
   "toc_position": {},
   "toc_section_display": "block",
   "toc_window_display": false
  }
 },
 "nbformat": 4,
 "nbformat_minor": 2
}
